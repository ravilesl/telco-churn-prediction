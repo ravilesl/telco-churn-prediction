{
 "cells": [
  {
   "cell_type": "code",
   "execution_count": null,
   "id": "12a2a758",
   "metadata": {
    "vscode": {
     "languageId": "plaintext"
    }
   },
   "outputs": [],
   "source": [
    "# Script para ejecutar el proyecto en Google Colab\n",
    "\n",
    "# Paso 1: Clonar el repositorio de GitHub\n",
    "!git clone https://github.com/ravilesl/telco-churn-prediction.git\n",
    "%cd telco-churn-prediction\n"
   ]
  },
  {
   "cell_type": "code",
   "execution_count": null,
   "id": "c36c3ce7",
   "metadata": {
    "vscode": {
     "languageId": "plaintext"
    }
   },
   "outputs": [],
   "source": [
    "\n",
    "# Paso 2: Instalar las dependencias\n",
    "!pip install -r requirements.txt\n"
   ]
  },
  {
   "cell_type": "code",
   "execution_count": null,
   "id": "6bc343a4",
   "metadata": {
    "vscode": {
     "languageId": "plaintext"
    }
   },
   "outputs": [],
   "source": [
    "\n",
    "# Paso 3: Descargar el dataset (Colab no puede clonar archivos grandes)\n",
    "!mkdir -p data/raw\n",
    "!wget -O data/raw/WA_Fn-UseC_-Telco-Customer-Churn.csv https://raw.githubusercontent.com/IBM/telco-customer-churn-extra-data/master/WA_Fn-UseC_-Telco-Customer-Churn.csv\n"
   ]
  },
  {
   "cell_type": "code",
   "execution_count": null,
   "id": "e3f3e1cb",
   "metadata": {
    "vscode": {
     "languageId": "plaintext"
    }
   },
   "outputs": [],
   "source": [
    "\n",
    "# Paso 4: Ejecutar el pipeline principal (entrena, guarda el modelo y lo evalúa)\n",
    "!python src/main.py\n"
   ]
  },
  {
   "cell_type": "code",
   "execution_count": null,
   "id": "a89f7e65",
   "metadata": {
    "vscode": {
     "languageId": "plaintext"
    }
   },
   "outputs": [],
   "source": [
    "\n",
    "# Paso 5: Mensaje de confirmación\n",
    "print(\"\\n¡El pipeline se ha completado con éxito! El modelo entrenado está listo en la carpeta 'models'.\")\n",
    "print(\"Para probar la API, puedes usar un servicio como ngrok para exponer el servidor de FastAPI.\")"
   ]
  }
 ],
 "metadata": {
  "language_info": {
   "name": "python"
  }
 },
 "nbformat": 4,
 "nbformat_minor": 5
}
